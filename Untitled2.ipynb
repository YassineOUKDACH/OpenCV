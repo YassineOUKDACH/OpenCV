{
 "cells": [
  {
   "cell_type": "code",
   "execution_count": 5,
   "metadata": {},
   "outputs": [
    {
     "name": "stdout",
     "output_type": "stream",
     "text": [
      "0 179 -1 -1 -1 -1\n"
     ]
    },
    {
     "ename": "error",
     "evalue": "OpenCV(4.2.0) /io/opencv/modules/core/src/arithm.cpp:1758: error: (-209:Sizes of input arguments do not match) The lower boundary is neither an array of the same size and same type as src, nor a scalar in function 'inRange'\n",
     "output_type": "error",
     "traceback": [
      "\u001b[0;31m---------------------------------------------------------------------------\u001b[0m",
      "\u001b[0;31merror\u001b[0m                                     Traceback (most recent call last)",
      "\u001b[0;32m<ipython-input-5-0ebdf74c53a6>\u001b[0m in \u001b[0;36m<module>\u001b[0;34m\u001b[0m\n\u001b[1;32m     27\u001b[0m     \u001b[0mlower\u001b[0m \u001b[0;34m=\u001b[0m \u001b[0mnp\u001b[0m\u001b[0;34m.\u001b[0m\u001b[0marray\u001b[0m\u001b[0;34m(\u001b[0m\u001b[0;34m[\u001b[0m\u001b[0mh_min\u001b[0m\u001b[0;34m,\u001b[0m \u001b[0ms_min\u001b[0m\u001b[0;34m,\u001b[0m \u001b[0mv_min\u001b[0m\u001b[0;34m]\u001b[0m\u001b[0;34m)\u001b[0m\u001b[0;34m\u001b[0m\u001b[0;34m\u001b[0m\u001b[0m\n\u001b[1;32m     28\u001b[0m     \u001b[0mupper\u001b[0m \u001b[0;34m=\u001b[0m \u001b[0mnp\u001b[0m\u001b[0;34m.\u001b[0m\u001b[0marray\u001b[0m\u001b[0;34m(\u001b[0m\u001b[0;34m[\u001b[0m\u001b[0mh_max\u001b[0m\u001b[0;34m,\u001b[0m \u001b[0ms_max\u001b[0m\u001b[0;34m,\u001b[0m \u001b[0mv_max\u001b[0m\u001b[0;34m]\u001b[0m\u001b[0;34m)\u001b[0m\u001b[0;34m\u001b[0m\u001b[0;34m\u001b[0m\u001b[0m\n\u001b[0;32m---> 29\u001b[0;31m     \u001b[0mmask\u001b[0m \u001b[0;34m=\u001b[0m \u001b[0mcv2\u001b[0m\u001b[0;34m.\u001b[0m\u001b[0minRange\u001b[0m\u001b[0;34m(\u001b[0m\u001b[0mimgs\u001b[0m\u001b[0;34m,\u001b[0m \u001b[0mlower\u001b[0m\u001b[0;34m,\u001b[0m \u001b[0mupper\u001b[0m\u001b[0;34m)\u001b[0m\u001b[0;34m\u001b[0m\u001b[0;34m\u001b[0m\u001b[0m\n\u001b[0m\u001b[1;32m     30\u001b[0m     \u001b[0mcv2\u001b[0m\u001b[0;34m.\u001b[0m\u001b[0mimshow\u001b[0m\u001b[0;34m(\u001b[0m\u001b[0;34m\"Lam\"\u001b[0m\u001b[0;34m,\u001b[0m \u001b[0mimg\u001b[0m\u001b[0;34m)\u001b[0m\u001b[0;34m\u001b[0m\u001b[0;34m\u001b[0m\u001b[0m\n\u001b[1;32m     31\u001b[0m     \u001b[0mcv2\u001b[0m\u001b[0;34m.\u001b[0m\u001b[0mimshow\u001b[0m\u001b[0;34m(\u001b[0m\u001b[0;34m\"HSV\"\u001b[0m\u001b[0;34m,\u001b[0m \u001b[0mimgs\u001b[0m\u001b[0;34m)\u001b[0m\u001b[0;34m\u001b[0m\u001b[0;34m\u001b[0m\u001b[0m\n",
      "\u001b[0;31merror\u001b[0m: OpenCV(4.2.0) /io/opencv/modules/core/src/arithm.cpp:1758: error: (-209:Sizes of input arguments do not match) The lower boundary is neither an array of the same size and same type as src, nor a scalar in function 'inRange'\n"
     ]
    }
   ],
   "source": [
    "import cv2\n",
    "import numpy as np\n",
    "## color detection\n",
    "path = '/home/yassine/PycharmProjects/Opencv/lam.jpg'\n",
    "def empty(a):\n",
    "    pass\n",
    "cv2.namedWindow(\"Trackbors\")\n",
    "cv2.resizeWindow(\"Trackbors\", 640,240)\n",
    "cv2.createTrackbar(\"hue Min\", \"Trackbors\", 0,179, empty)\n",
    "cv2.createTrackbar(\"hue Max\", \"Trackbors\", 179,179, empty)\n",
    "cv2.createTrackbar(\"sat1 Max\", \"Trackbors\", 0,255, empty)\n",
    "cv2.createTrackbar(\"sat2 Max\", \"Trackbors\", 255,255, empty)\n",
    "cv2.createTrackbar(\"sat3 Max\", \"Trackbors\", 0,255, empty)\n",
    "cv2.createTrackbar(\"sat4 Max\", \"Trackbors\", 255,255, empty)\n",
    "\n",
    "while True:\n",
    "\n",
    "    img = cv2.imread(path)\n",
    "    imgs =cv2.cvtColor(img, cv2.COLOR_BGR2GRAY)\n",
    "    h_min = cv2.getTrackbarPos(\"hue Min\",\"Trackbors\")\n",
    "    h_max = cv2.getTrackbarPos(\"hue Max\",\"Trackbors\")\n",
    "    s_min = cv2.getTrackbarPos(\"sat Min\",\"Trackbors\")\n",
    "    s_max = cv2.getTrackbarPos(\"sat Max\",\"Trackbors\")\n",
    "    v_min = cv2.getTrackbarPos(\"val Min\",\"Trackbors\")\n",
    "    v_max = cv2.getTrackbarPos(\"val Max\",\"Trackbors\")\n",
    "    print(h_min, h_max, s_min,s_min,v_min,v_max)\n",
    "    lower = np.array([h_min, s_min, v_min])\n",
    "    upper = np.array([h_max, s_max, v_max])\n",
    "    mask = cv2.inRange(imgs, lower, upper)\n",
    "    cv2.imshow(\"Lam\", img)\n",
    "    cv2.imshow(\"HSV\", imgs)\n",
    "    cv2.imshow(\"MASK\", mask)\n",
    "\n",
    "\n",
    "    cv2.waitKey(1)\n"
   ]
  },
  {
   "cell_type": "code",
   "execution_count": null,
   "metadata": {},
   "outputs": [],
   "source": []
  }
 ],
 "metadata": {
  "kernelspec": {
   "display_name": "Python 3",
   "language": "python",
   "name": "python3"
  },
  "language_info": {
   "codemirror_mode": {
    "name": "ipython",
    "version": 3
   },
   "file_extension": ".py",
   "mimetype": "text/x-python",
   "name": "python",
   "nbconvert_exporter": "python",
   "pygments_lexer": "ipython3",
   "version": "3.7.6"
  }
 },
 "nbformat": 4,
 "nbformat_minor": 4
}
