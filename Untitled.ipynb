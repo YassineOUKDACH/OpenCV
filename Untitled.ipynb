{
 "cells": [
  {
   "cell_type": "code",
   "execution_count": 4,
   "metadata": {},
   "outputs": [
    {
     "name": "stdout",
     "output_type": "stream",
     "text": [
      "package imported\n",
      "open cv with python \n",
      "read vedio \n"
     ]
    }
   ],
   "source": [
    "import cv2\n",
    "print(\"package imported\")\n",
    "\n",
    "print(\"open cv with python \")\n",
    "'''img = cv2.imread(\"index.jpeg\")\n",
    "cv2.imshow(\"Output\",img)\n",
    "cv2.waitKey(0)'''\n",
    "# read now vido\n",
    "##\n",
    "# create a VideoCapture object with cap\n",
    "print(\"read vedio \")\n",
    "cap = cv2.VideoCapture(\"viedo1.mp4\")\n",
    "while True:\n",
    "    suuces, img = cap.read()\n",
    "    cv2.imshow(\"video\", img)\n",
    "    if cv2.waitKey(1) & 0xFF --ord('q'):\n",
    "        break"
   ]
  },
  {
   "cell_type": "code",
   "execution_count": 3,
   "metadata": {},
   "outputs": [
    {
     "name": "stdout",
     "output_type": "stream",
     "text": [
      "Collecting opencv-python\n",
      "  Downloading opencv_python-4.2.0.34-cp37-cp37m-manylinux1_x86_64.whl (28.2 MB)\n",
      "\u001b[K     |████████████████████████████████| 28.2 MB 667 kB/s eta 0:00:01    |███████                         | 6.1 MB 758 kB/s eta 0:00:30\n",
      "\u001b[?25hRequirement already satisfied: numpy>=1.14.5 in /home/yassine/anaconda3/lib/python3.7/site-packages (from opencv-python) (1.18.1)\n",
      "Installing collected packages: opencv-python\n",
      "Successfully installed opencv-python-4.2.0.34\n"
     ]
    }
   ],
   "source": [
    "!pip install opencv-python"
   ]
  },
  {
   "cell_type": "code",
   "execution_count": null,
   "metadata": {},
   "outputs": [],
   "source": []
  }
 ],
 "metadata": {
  "kernelspec": {
   "display_name": "Python 3",
   "language": "python",
   "name": "python3"
  },
  "language_info": {
   "codemirror_mode": {
    "name": "ipython",
    "version": 3
   },
   "file_extension": ".py",
   "mimetype": "text/x-python",
   "name": "python",
   "nbconvert_exporter": "python",
   "pygments_lexer": "ipython3",
   "version": "3.7.6"
  }
 },
 "nbformat": 4,
 "nbformat_minor": 4
}
